{
 "cells": [
  {
   "cell_type": "code",
   "execution_count": 5,
   "id": "e103762c",
   "metadata": {},
   "outputs": [
    {
     "name": "stdout",
     "output_type": "stream",
     "text": [
      "2 7896\n"
     ]
    }
   ],
   "source": [
    "#Given a list, return the highest and lowest values present in the list.\n",
    "lst = [10,2,3,4,5,6,3,45,6,7,67,6768,7896]\n",
    "max_num = 0\n",
    "min_num = lst[0]\n",
    "for i in range(0, len(lst)):\n",
    "    if lst[i] > max_num:\n",
    "        max_num = lst[i]\n",
    "    if lst[i] < min_num:\n",
    "        min_num = lst[i]\n",
    "print(min_num, max_num)"
   ]
  },
  {
   "cell_type": "code",
   "execution_count": 21,
   "id": "971be223",
   "metadata": {},
   "outputs": [
    {
     "data": {
      "text/plain": [
       "[890, 686, 68, 454, 676, 75, 645, 5, 4, 3, 2]"
      ]
     },
     "execution_count": 21,
     "metadata": {},
     "output_type": "execute_result"
    }
   ],
   "source": [
    "#Q-2 Write a function that returns the list in reverse order without using built-in functions.\n",
    "lst1 = [2,3,4,5,645,75,676,454,68,686,890]\n",
    "def reversing_list(lst):\n",
    "    res_list = []\n",
    "    for i in range(len(lst1)-1,-1, -1):\n",
    "        res_list.append(lst[i])\n",
    "    return res_list\n",
    "reversing_list(lst1)"
   ]
  },
  {
   "cell_type": "code",
   "execution_count": 29,
   "id": "722dba22",
   "metadata": {},
   "outputs": [
    {
     "data": {
      "text/plain": [
       "[78, 648, 7879, 45, 98, 77, 90, 12, 3, 454, 57]"
      ]
     },
     "execution_count": 29,
     "metadata": {},
     "output_type": "execute_result"
    }
   ],
   "source": [
    "# Given a list and an integer k, modify the list so that it shifts elements accordingly.\n",
    "lst2 = [3,454,57,78,648,7879,45,98,77,90,12]   \n",
    "def rotating_list_by_k_position(lst, k):\n",
    "    lst = lst[k::] + lst2[:k]\n",
    "    return lst\n",
    "rotating_list_by_k_position(lst2,3)"
   ]
  },
  {
   "cell_type": "code",
   "execution_count": 34,
   "id": "63680403",
   "metadata": {},
   "outputs": [
    {
     "name": "stdout",
     "output_type": "stream",
     "text": [
      "[3, 4, 5, 9, 22, 15]\n"
     ]
    }
   ],
   "source": [
    "# Return a list of duplicate elements present in the original list.\n",
    "lst3 = [2,3,4,5,6,4,3,5,7,8,9,19,22,9,15,22, 15]\n",
    "lst4 = []\n",
    "for i in lst3:\n",
    "    if (i not in lst4) and lst3.count(i) >1:\n",
    "        lst4.append(i)\n",
    "print(lst4)"
   ]
  },
  {
   "cell_type": "code",
   "execution_count": 36,
   "id": "9c2255b8",
   "metadata": {},
   "outputs": [
    {
     "data": {
      "text/plain": [
       "[45, 34, 23, 67, 35, 12, 89, 25]"
      ]
     },
     "execution_count": 36,
     "metadata": {},
     "output_type": "execute_result"
    }
   ],
   "source": [
    "# Implement a function that returns a new list with duplicates removed.\n",
    "lst5 = [45,34,23,67,35,12,89,25,34,89, 45, 23, 12]\n",
    "def duplicate_removed(lst):\n",
    "    lst6 = []\n",
    "    for i in lst:\n",
    "        if i not in lst6:\n",
    "            lst6.append(i)\n",
    "    return lst6\n",
    "duplicate_removed(lst5)\n",
    "    "
   ]
  },
  {
   "cell_type": "code",
   "execution_count": 55,
   "id": "1ddd7374",
   "metadata": {},
   "outputs": [
    {
     "data": {
      "text/plain": [
       "13"
      ]
     },
     "execution_count": 55,
     "metadata": {},
     "output_type": "execute_result"
    }
   ],
   "source": [
    "# Find an Element in a List: Implement a linear search to find an element in a list.\n",
    "#Description: Return the index of the element if found, or -1 if not present.\n",
    "lst12 = [1,2,3,4,5,6,7,8,9,12,335,56,67,89]\n",
    "def find_element(lst, element):\n",
    "    for i in lst:\n",
    "        if element in lst:\n",
    "            return lst.index(element)\n",
    "        else:\n",
    "            return -1\n",
    "find_element([1,2,3,4,5,6,7,8,9,12,335,56,67,89], 89)"
   ]
  },
  {
   "cell_type": "code",
   "execution_count": 56,
   "id": "f3571d1c",
   "metadata": {},
   "outputs": [
    {
     "data": {
      "text/plain": [
       "13"
      ]
     },
     "execution_count": 56,
     "metadata": {},
     "output_type": "execute_result"
    }
   ],
   "source": [
    "# Given a sorted list and a target value, return the index of the target value if found, or -1 if not present.\n",
    "def find_element(lst, element):\n",
    "    for i in lst:\n",
    "        if element in lst:\n",
    "            return lst.index(element)\n",
    "        else:\n",
    "            return -1\n",
    "find_element([1,2,3,4,5,6,7,8,9,12,335,56,67,89], 89)"
   ]
  },
  {
   "cell_type": "code",
   "execution_count": 81,
   "id": "cca4b936",
   "metadata": {},
   "outputs": [
    {
     "data": {
      "text/plain": [
       "[2, 3, 21, 32, 34, 45, 54, 56, 67, 76, 78, 89]"
      ]
     },
     "execution_count": 81,
     "metadata": {},
     "output_type": "execute_result"
    }
   ],
   "source": [
    "#bubble sort\n",
    "def sort_list(lst13):\n",
    "    for i in range(len(lst13)):\n",
    "        swape = False\n",
    "        for j in range(0, len(lst13)-i-1):\n",
    "            if lst13[j]> lst13[j+1]:\n",
    "                lst13[j] , lst13[j+1]=lst13[j+1], lst13[j]\n",
    "                swape = True\n",
    "        if swape == False:\n",
    "            break\n",
    "    return lst13\n",
    "sort_list(lst13 = [2,45,56,67,78,34,54,76,89,32,3,21]\n",
    ")"
   ]
  },
  {
   "cell_type": "code",
   "execution_count": 82,
   "id": "393f7075",
   "metadata": {},
   "outputs": [
    {
     "name": "stdout",
     "output_type": "stream",
     "text": [
      "[12, 22, 23, 34, 43, 45, 56, 67, 245, 787]\n"
     ]
    }
   ],
   "source": [
    "# Description: Combine the two lists and ensure the final list remains sorted.\n",
    "lst1 = [12,34,45,67,787]\n",
    "lst2 = [43,23,245,56,22]\n",
    "lst3 = sort_list(lst1+lst2)\n",
    "print(lst3)"
   ]
  },
  {
   "cell_type": "code",
   "execution_count": 83,
   "id": "a1e97a16",
   "metadata": {},
   "outputs": [
    {
     "name": "stdout",
     "output_type": "stream",
     "text": [
      "[34, 45, 245]\n"
     ]
    }
   ],
   "source": [
    "# Return a list containing elements common to both input lists.\n",
    "lst3 = [12,34,45,67,787, 245]\n",
    "lst4 = [43,23,245,56,22,34,45]\n",
    "lst5 = []\n",
    "for i in lst3:\n",
    "    if i in lst4:\n",
    "        lst5.append(i)\n",
    "print(lst5)"
   ]
  },
  {
   "cell_type": "code",
   "execution_count": 93,
   "id": "3faff4f6",
   "metadata": {},
   "outputs": [
    {
     "name": "stdout",
     "output_type": "stream",
     "text": [
      "It is a sublist\n"
     ]
    }
   ],
   "source": [
    "# Description: Return True if the second list appears as a contiguous sublist in the first list.\n",
    "lst6 = [1,2,3,4,5,6,7,8,9,12,14,25,65,57]\n",
    "lst7 = [4,65,57,5]\n",
    "sublist = False\n",
    "for i in lst7:\n",
    "    if i in lst6:\n",
    "        sublist = True\n",
    "    else:\n",
    "        sublist = False\n",
    "        break\n",
    "if sublist == True:\n",
    "    print('It is a sublist')\n",
    "else:\n",
    "    print('not a sublist')\n",
    "    "
   ]
  },
  {
   "cell_type": "code",
   "execution_count": 94,
   "id": "042e88ad",
   "metadata": {},
   "outputs": [
    {
     "name": "stdout",
     "output_type": "stream",
     "text": [
      "[2, 464, 576, 454, 676, 898]\n",
      "[1, 3, 445, 667, 89, 13, 15]\n"
     ]
    }
   ],
   "source": [
    "#Description: Write a function that separates the list based on a given condition (e.g., all even numbers and all odd numbers).\n",
    "lst45 = [1,2,3,445,464,576,454,667,89,676,898,13,15]\n",
    "even_list = []\n",
    "odd_list = []\n",
    "for i in lst45:\n",
    "    if i%2 == 0:\n",
    "        even_list.append(i)\n",
    "    else:\n",
    "        odd_list.append(i)\n",
    "print(even_list)\n",
    "print(odd_list)"
   ]
  },
  {
   "cell_type": "code",
   "execution_count": 6,
   "id": "4015b5e9",
   "metadata": {},
   "outputs": [
    {
     "name": "stdout",
     "output_type": "stream",
     "text": [
      "[1, 2, 3, 5, 1, 2, 3, 4]\n"
     ]
    }
   ],
   "source": [
    "a = [1,[2,3,5],[1,2,[3,4]]]\n",
    "b = []\n",
    "b.append(a[0])\n",
    "b.extend(a[1])\n",
    "for i in a[2]:\n",
    "    if type(i) != list:\n",
    "        b.append(i)\n",
    "    else:\n",
    "        b.extend(i)\n",
    "print(b)"
   ]
  },
  {
   "cell_type": "code",
   "execution_count": null,
   "id": "26beee6c",
   "metadata": {},
   "outputs": [],
   "source": []
  }
 ],
 "metadata": {
  "kernelspec": {
   "display_name": "Python 3 (ipykernel)",
   "language": "python",
   "name": "python3"
  },
  "language_info": {
   "codemirror_mode": {
    "name": "ipython",
    "version": 3
   },
   "file_extension": ".py",
   "mimetype": "text/x-python",
   "name": "python",
   "nbconvert_exporter": "python",
   "pygments_lexer": "ipython3",
   "version": "3.9.7"
  }
 },
 "nbformat": 4,
 "nbformat_minor": 5
}
