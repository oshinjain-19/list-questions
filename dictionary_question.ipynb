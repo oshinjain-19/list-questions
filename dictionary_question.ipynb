{
 "cells": [
  {
   "cell_type": "code",
   "execution_count": 11,
   "id": "783af277",
   "metadata": {},
   "outputs": [
    {
     "name": "stdout",
     "output_type": "stream",
     "text": [
      "{'c': 'banana', 'b': 'apple', 'a': 'mango'}\n"
     ]
    }
   ],
   "source": [
    "dic = {'a' : 'mango', 'b':'apple','c':'banana'}\n",
    "new_dic = {}\n",
    "for keys, value in reversed(dic.items()):\n",
    "    new_dic[keys]=value\n",
    "print(new_dic)"
   ]
  },
  {
   "cell_type": "code",
   "execution_count": 13,
   "id": "232927eb",
   "metadata": {},
   "outputs": [
    {
     "name": "stdout",
     "output_type": "stream",
     "text": [
      "c banana\n",
      "b apple\n",
      "a mango\n"
     ]
    }
   ],
   "source": [
    "for k, v in sorted(dic.items(), reverse=True):\n",
    "    print(k,v)"
   ]
  },
  {
   "cell_type": "code",
   "execution_count": 24,
   "id": "6482bf70",
   "metadata": {},
   "outputs": [
    {
     "name": "stdout",
     "output_type": "stream",
     "text": [
      "{'c': 'banana', 'b': 'apple', 'a': 'mango'}\n"
     ]
    }
   ],
   "source": [
    "keys = list(dic.keys())\n",
    "new_dicc = {}\n",
    "for i in range(len(dic.keys())-1,-1,-1):\n",
    "    key = keys[i]\n",
    "    value = dic[key]\n",
    "    new_dicc[key] = value\n",
    "print(new_dicc)"
   ]
  },
  {
   "cell_type": "code",
   "execution_count": null,
   "id": "ad420a79",
   "metadata": {},
   "outputs": [],
   "source": []
  }
 ],
 "metadata": {
  "kernelspec": {
   "display_name": "Python 3 (ipykernel)",
   "language": "python",
   "name": "python3"
  },
  "language_info": {
   "codemirror_mode": {
    "name": "ipython",
    "version": 3
   },
   "file_extension": ".py",
   "mimetype": "text/x-python",
   "name": "python",
   "nbconvert_exporter": "python",
   "pygments_lexer": "ipython3",
   "version": "3.9.7"
  }
 },
 "nbformat": 4,
 "nbformat_minor": 5
}
